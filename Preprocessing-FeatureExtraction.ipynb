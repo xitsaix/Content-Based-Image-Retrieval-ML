import numpy as np
from tensorflow.keras.applications.resnet50 import ResNet50, preprocess_input
from tensorflow.keras.preprocessing import image
from tensorflow.keras.models import Model
from sklearn.neighbors import NearestNeighbors
import os

# Load ResNet50 model without top layers
base_model = ResNet50(weights='imagenet', include_top=False, pooling='avg')
model = Model(inputs=base_model.input, outputs=base_model.output)

# Function to preprocess and extract image features
def extract_features(img_path, model):
    img = image.load_img(img_path, target_size=(224, 224))
    img_data = image.img_to_array(img)
    img_data = np.expand_dims(img_data, axis=0)
    img_data = preprocess_input(img_data)
    features = model.predict(img_data)
    return features

# Path to Dataset
dataset_path = './datasets'

# List all images and extract features
image_paths = []
features_list = []

for root, dirs, files in os.walk(dataset_path):
    for file in files:
        if file.endswith(('jpg', 'jpeg', 'png')):
            img_path = os.path.join(root, file)
            image_paths.append(img_path)
            features = extract_features(img_path, model)
            features_list.append(features.flatten())

# Convert list to numpy array
features_array = np.array(features_list)

# Simpan fitur dan path gambar
np.save('features.npy', features_array)
np.save('image_paths.npy', image_paths)
